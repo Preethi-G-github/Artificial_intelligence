{
  "nbformat": 4,
  "nbformat_minor": 0,
  "metadata": {
    "colab": {
      "provenance": []
    },
    "kernelspec": {
      "name": "python3",
      "display_name": "Python 3"
    },
    "language_info": {
      "name": "python"
    }
  },
  "cells": [
    {
      "cell_type": "code",
      "execution_count": null,
      "metadata": {
        "colab": {
          "base_uri": "https://localhost:8080/"
        },
        "id": "IUv1CKE9Q5I3",
        "outputId": "7d44c162-889a-4c6b-d20a-73cce631a5a7"
      },
      "outputs": [
        {
          "output_type": "stream",
          "name": "stdout",
          "text": [
            "Hello world!\n"
          ]
        }
      ],
      "source": [
        "print(\"Hello world!\")"
      ]
    },
    {
      "cell_type": "code",
      "source": [
        "name=\"Preethi\"\n",
        "print(name)"
      ],
      "metadata": {
        "colab": {
          "base_uri": "https://localhost:8080/"
        },
        "id": "z8fpC8tPRG93",
        "outputId": "1849c7ea-5110-4400-f83b-dd5bdff44e27"
      },
      "execution_count": null,
      "outputs": [
        {
          "output_type": "stream",
          "name": "stdout",
          "text": [
            "Preethi\n"
          ]
        }
      ]
    },
    {
      "cell_type": "code",
      "source": [
        "name=\"preethi\"\n",
        "age=19\n",
        "score=90\n",
        "print(name,age,score)"
      ],
      "metadata": {
        "colab": {
          "base_uri": "https://localhost:8080/"
        },
        "id": "uYPDID4TRMDC",
        "outputId": "b9669ee9-be0c-4b1e-8d4a-9d6b97f43743"
      },
      "execution_count": null,
      "outputs": [
        {
          "output_type": "stream",
          "name": "stdout",
          "text": [
            "preethi 19 90\n"
          ]
        }
      ]
    },
    {
      "cell_type": "code",
      "source": [
        "#used to find data types\n",
        "type(name)"
      ],
      "metadata": {
        "colab": {
          "base_uri": "https://localhost:8080/"
        },
        "id": "jlfLs81GRv7Z",
        "outputId": "28a74b75-299e-420b-9e1e-4ee021ab325b"
      },
      "execution_count": null,
      "outputs": [
        {
          "output_type": "execute_result",
          "data": {
            "text/plain": [
              "str"
            ]
          },
          "metadata": {},
          "execution_count": 20
        }
      ]
    },
    {
      "cell_type": "code",
      "source": [
        "#tuple\n",
        "data=(\"preethi\",19,90)\n",
        "print(data)"
      ],
      "metadata": {
        "colab": {
          "base_uri": "https://localhost:8080/"
        },
        "id": "-9Xry3ppSIzM",
        "outputId": "ad0adc17-07e6-452a-d763-8ce1d25163f5"
      },
      "execution_count": null,
      "outputs": [
        {
          "output_type": "stream",
          "name": "stdout",
          "text": [
            "('preethi', 19, 90)\n"
          ]
        }
      ]
    },
    {
      "cell_type": "code",
      "source": [
        "#list\n",
        "data=[\"preethi\",19,90]\n",
        "print(data)"
      ],
      "metadata": {
        "colab": {
          "base_uri": "https://localhost:8080/"
        },
        "id": "YOt8SiAZTo7w",
        "outputId": "9cd885ce-8ff0-4f83-b07b-15c1be3d9851"
      },
      "execution_count": null,
      "outputs": [
        {
          "output_type": "stream",
          "name": "stdout",
          "text": [
            "['shivani', 19, 90]\n"
          ]
        }
      ]
    },
    {
      "cell_type": "code",
      "source": [
        "#set\n",
        "student={\"name\":\"shivani\",\"age\":19,\"score\":95}\n",
        "print(student)"
      ],
      "metadata": {
        "colab": {
          "base_uri": "https://localhost:8080/"
        },
        "id": "enXAE7kxSZW1",
        "outputId": "3426fc69-a865-4318-8c19-9ee08d356a5e"
      },
      "execution_count": null,
      "outputs": [
        {
          "output_type": "stream",
          "name": "stdout",
          "text": [
            "{'name': 'shivani', 'age': 19, 'score': 95}\n"
          ]
        }
      ]
    },
    {
      "cell_type": "code",
      "source": [
        "#keys in set\n",
        "student.keys()"
      ],
      "metadata": {
        "colab": {
          "base_uri": "https://localhost:8080/"
        },
        "id": "dT8taSC4SzK8",
        "outputId": "0dafc035-6583-4b64-d7ea-955734627a36"
      },
      "execution_count": null,
      "outputs": [
        {
          "output_type": "execute_result",
          "data": {
            "text/plain": [
              "dict_keys(['name', 'age', 'score'])"
            ]
          },
          "metadata": {},
          "execution_count": 26
        }
      ]
    },
    {
      "cell_type": "code",
      "source": [
        "#values in set\n",
        "student.values()"
      ],
      "metadata": {
        "colab": {
          "base_uri": "https://localhost:8080/"
        },
        "id": "xJUEI5imS3By",
        "outputId": "7f777a5a-0901-42d6-a2d8-ea11548b17a2"
      },
      "execution_count": null,
      "outputs": [
        {
          "output_type": "execute_result",
          "data": {
            "text/plain": [
              "dict_values(['shivani', 19, 95])"
            ]
          },
          "metadata": {},
          "execution_count": 27
        }
      ]
    },
    {
      "cell_type": "code",
      "source": [
        "#items in set\n",
        "student.items()"
      ],
      "metadata": {
        "colab": {
          "base_uri": "https://localhost:8080/"
        },
        "id": "7JaOF9fcS6kw",
        "outputId": "b0f5f116-b54d-4c24-ffcb-42b7929b3b2c"
      },
      "execution_count": null,
      "outputs": [
        {
          "output_type": "execute_result",
          "data": {
            "text/plain": [
              "dict_items([('name', 'shivani'), ('age', 19), ('score', 95)])"
            ]
          },
          "metadata": {},
          "execution_count": 28
        }
      ]
    },
    {
      "cell_type": "code",
      "source": [
        "#boolean means true or false\n",
        "bool(0)"
      ],
      "metadata": {
        "colab": {
          "base_uri": "https://localhost:8080/"
        },
        "id": "uUlWUwP2TFaY",
        "outputId": "182cf44a-1e82-46a3-9977-fa3af9260ce8"
      },
      "execution_count": null,
      "outputs": [
        {
          "output_type": "execute_result",
          "data": {
            "text/plain": [
              "False"
            ]
          },
          "metadata": {},
          "execution_count": 18
        }
      ]
    },
    {
      "cell_type": "code",
      "source": [
        "bool(1)"
      ],
      "metadata": {
        "colab": {
          "base_uri": "https://localhost:8080/"
        },
        "id": "sYQjTe-GTKL4",
        "outputId": "f52c1765-2121-48e8-f5ce-54368b97fad0"
      },
      "execution_count": null,
      "outputs": [
        {
          "output_type": "execute_result",
          "data": {
            "text/plain": [
              "True"
            ]
          },
          "metadata": {},
          "execution_count": 17
        }
      ]
    },
    {
      "cell_type": "code",
      "source": [
        "#arithmetic operators\n",
        "x=3\n",
        "y=5\n",
        "print(x+y)\n",
        "print(x-y)\n",
        "print(x*y)\n",
        "print(x/y)\n",
        "print(x**y)\n",
        "print(x%y)\n",
        "print(x//y)"
      ],
      "metadata": {
        "colab": {
          "base_uri": "https://localhost:8080/"
        },
        "id": "d9fzXaCJTMQX",
        "outputId": "be8961b0-d1bd-4943-95ce-c5aa4e777947"
      },
      "execution_count": null,
      "outputs": [
        {
          "output_type": "stream",
          "name": "stdout",
          "text": [
            "8\n",
            "-2\n",
            "15\n",
            "0.6\n",
            "243\n",
            "3\n",
            "0\n"
          ]
        }
      ]
    },
    {
      "cell_type": "code",
      "source": [
        "#comparison operators\n",
        "x=5\n",
        "y=10\n",
        "print(x==y)\n",
        "print(x!=y)\n",
        "print(x>y)\n",
        "print(x<y)\n",
        "print(x>=y)\n",
        "print(x<=y)"
      ],
      "metadata": {
        "colab": {
          "base_uri": "https://localhost:8080/"
        },
        "id": "Djrd0r3kUyDD",
        "outputId": "51209561-f2ad-430a-d738-6256aed6b95f"
      },
      "execution_count": null,
      "outputs": [
        {
          "output_type": "stream",
          "name": "stdout",
          "text": [
            "False\n",
            "True\n",
            "False\n",
            "True\n",
            "False\n",
            "True\n"
          ]
        }
      ]
    },
    {
      "cell_type": "code",
      "source": [
        "#assignment opeators\n",
        "x=6\n",
        "x+=4\n",
        "print(x)\n",
        "x-=4\n",
        "print(x)\n",
        "x*=4\n",
        "print(x)\n",
        "x/=4\n",
        "print(x)\n",
        "x%=4\n",
        "print(x)\n",
        "x//=4\n",
        "print(x)\n",
        "x**4\n",
        "print(x)"
      ],
      "metadata": {
        "colab": {
          "base_uri": "https://localhost:8080/"
        },
        "id": "N56DBNBcVQPD",
        "outputId": "177ed883-c4bc-4b42-9183-fdee96ebf261"
      },
      "execution_count": null,
      "outputs": [
        {
          "output_type": "stream",
          "name": "stdout",
          "text": [
            "10\n",
            "6\n",
            "24\n",
            "6.0\n",
            "2.0\n",
            "0.0\n",
            "0.0\n"
          ]
        }
      ]
    },
    {
      "cell_type": "code",
      "source": [
        "#logical operators\n",
        "x=6\n",
        "y=2\n",
        "#eg:1\n",
        "a=(x>y) and (x<y)\n",
        "print(a)\n",
        "print(not(a))\n",
        "#eg:2\n",
        "b=(x<y) or (x>y)\n",
        "print(b)\n",
        "print(not(b))\n",
        "#eg:3\n",
        "print(x>y)\n",
        "print(not(x>y))"
      ],
      "metadata": {
        "colab": {
          "base_uri": "https://localhost:8080/"
        },
        "id": "UvmzZqRGWJxQ",
        "outputId": "b8ae6e0d-350a-4df0-98ea-b4a42fa9b3b6"
      },
      "execution_count": null,
      "outputs": [
        {
          "output_type": "stream",
          "name": "stdout",
          "text": [
            "False\n",
            "True\n",
            "True\n",
            "False\n",
            "True\n",
            "False\n"
          ]
        }
      ]
    },
    {
      "cell_type": "code",
      "source": [
        "#membership operators\n",
        "a=\"hello world\"\n",
        "print(\"h\" in a)\n",
        "print(\"h\" not in a)"
      ],
      "metadata": {
        "colab": {
          "base_uri": "https://localhost:8080/"
        },
        "id": "E2jfi7SOWuSj",
        "outputId": "4c5b731e-7ea9-48bc-f33e-560f353da64f"
      },
      "execution_count": null,
      "outputs": [
        {
          "output_type": "stream",
          "name": "stdout",
          "text": [
            "True\n",
            "False\n"
          ]
        }
      ]
    },
    {
      "cell_type": "code",
      "source": [
        "#list and methods\n",
        "name=[\"shivani\",\"preethi\",\"varshini\",\"maha lakshmi\"]\n",
        "name.append(\"nithya\")\n",
        "print(name)"
      ],
      "metadata": {
        "colab": {
          "base_uri": "https://localhost:8080/"
        },
        "id": "YVJI8a6EYbLe",
        "outputId": "30204872-b8ee-44bb-a946-947fb7d4640a"
      },
      "execution_count": null,
      "outputs": [
        {
          "output_type": "stream",
          "name": "stdout",
          "text": [
            "['shivani', 'preethi', 'varshini', 'maha lakshmi', 'nithya']\n"
          ]
        }
      ]
    },
    {
      "cell_type": "code",
      "source": [
        "name=[\"shivani\",\"preethi\",\"varshini\",\"maha lakshmi\"]\n",
        "name.insert(3,\"varsha\")\n",
        "print(name)"
      ],
      "metadata": {
        "colab": {
          "base_uri": "https://localhost:8080/"
        },
        "id": "UnrNLCOFZN_s",
        "outputId": "99a2c268-76ce-4a59-e2cf-dea133facf5a"
      },
      "execution_count": null,
      "outputs": [
        {
          "output_type": "stream",
          "name": "stdout",
          "text": [
            "['shivani', 'preethi', 'varshini', 'varsha', 'maha lakshmi']\n"
          ]
        }
      ]
    },
    {
      "cell_type": "code",
      "source": [
        "name=[\"shivani\",\"preethi\",\"varshini\",\"maha lakshmi\"]\n",
        "print(\"_\".join(name))"
      ],
      "metadata": {
        "colab": {
          "base_uri": "https://localhost:8080/"
        },
        "id": "r27MFrWshUU9",
        "outputId": "aeffa93e-9301-4211-ff9d-f6c37c31ac3f"
      },
      "execution_count": null,
      "outputs": [
        {
          "output_type": "stream",
          "name": "stdout",
          "text": [
            "shivani_preethi_varshini_maha lakshmi\n"
          ]
        }
      ]
    },
    {
      "cell_type": "code",
      "source": [
        "name=[\"shivani\",\"preethi\",\"varshini\",\"maha lakshmi\"]\n",
        "name.remove(\"maha lakshmi\")\n",
        "print(name)"
      ],
      "metadata": {
        "colab": {
          "base_uri": "https://localhost:8080/"
        },
        "id": "7qQOTKYqZCTq",
        "outputId": "56b77216-fbec-412f-ae47-b7221e8d2279"
      },
      "execution_count": null,
      "outputs": [
        {
          "output_type": "stream",
          "name": "stdout",
          "text": [
            "['shivani', 'preethi', 'varshini']\n"
          ]
        }
      ]
    },
    {
      "cell_type": "code",
      "source": [
        "name=[\"shivani\",\"preethi\",\"varshini\",\"maha lakshmi\"]\n",
        "name.clear()\n",
        "print(name)"
      ],
      "metadata": {
        "colab": {
          "base_uri": "https://localhost:8080/"
        },
        "id": "us7_UQJiZIXI",
        "outputId": "03cde2a2-eda7-46b9-e034-9b24bf239af2"
      },
      "execution_count": null,
      "outputs": [
        {
          "output_type": "stream",
          "name": "stdout",
          "text": [
            "[]\n"
          ]
        }
      ]
    },
    {
      "cell_type": "code",
      "source": [
        "name=[\"shivani\",\"preethi\",\"varshini\",\"maha lakshmi\"]\n",
        "name.pop(1)\n",
        "print(name)\n",
        "name=['shivani', 'varshini', 'maha lakshmi']\n",
        "name.pop(0)\n",
        "print(name)"
      ],
      "metadata": {
        "colab": {
          "base_uri": "https://localhost:8080/"
        },
        "id": "yZuUdELZZLvF",
        "outputId": "f1237527-92a7-4ce5-a3e3-d44804e55362"
      },
      "execution_count": null,
      "outputs": [
        {
          "output_type": "stream",
          "name": "stdout",
          "text": [
            "['shivani', 'varshini', 'maha lakshmi']\n",
            "['varshini', 'maha lakshmi']\n"
          ]
        }
      ]
    },
    {
      "cell_type": "code",
      "source": [
        "name=[\"shivani\",\"preethi\",\"varshini\",\"maha lakshmi\"]\n",
        "name.sort()\n",
        "print(name)"
      ],
      "metadata": {
        "colab": {
          "base_uri": "https://localhost:8080/"
        },
        "id": "SdctLFfcbR2R",
        "outputId": "17165751-109f-40df-a88c-0c051851f46a"
      },
      "execution_count": null,
      "outputs": [
        {
          "output_type": "stream",
          "name": "stdout",
          "text": [
            "['maha lakshmi', 'preethi', 'shivani', 'varshini']\n"
          ]
        }
      ]
    },
    {
      "cell_type": "code",
      "source": [
        "name=[\"shivani\",\"preethi\",\"varshini\",\"maha lakshmi\"]\n",
        "name.reverse()\n",
        "print(name)"
      ],
      "metadata": {
        "colab": {
          "base_uri": "https://localhost:8080/"
        },
        "id": "oodfZ_FJZ4NH",
        "outputId": "50d76683-0efb-417b-92c4-f6c500e322cf"
      },
      "execution_count": null,
      "outputs": [
        {
          "output_type": "stream",
          "name": "stdout",
          "text": [
            "['maha lakshmi', 'varshini', 'preethi', 'shivani']\n"
          ]
        }
      ]
    },
    {
      "cell_type": "code",
      "source": [
        "name=[\"shivani\",\"preethi\",\"preethi\",\"varshini\",\"maha lakshmi\"]\n",
        "a=name.count(\"preethi\")\n",
        "print(a)"
      ],
      "metadata": {
        "colab": {
          "base_uri": "https://localhost:8080/"
        },
        "id": "TSmPo6zhbkRL",
        "outputId": "e1a491ae-42a1-4f76-9bd5-b6387fa8b22c"
      },
      "execution_count": null,
      "outputs": [
        {
          "output_type": "stream",
          "name": "stdout",
          "text": [
            "2\n"
          ]
        }
      ]
    },
    {
      "cell_type": "code",
      "source": [
        "name=[\"shivani\",\"preethi\",\"varshini\",\"maha lakshmi\"]\n",
        "name.copy()"
      ],
      "metadata": {
        "colab": {
          "base_uri": "https://localhost:8080/"
        },
        "id": "4Td8cwmpbtV8",
        "outputId": "6ef73585-8904-4fcd-d1de-7ef2d53114ee"
      },
      "execution_count": null,
      "outputs": [
        {
          "output_type": "execute_result",
          "data": {
            "text/plain": [
              "['shivani', 'preethi', 'varshini', 'maha lakshmi']"
            ]
          },
          "metadata": {},
          "execution_count": 64
        }
      ]
    },
    {
      "cell_type": "code",
      "source": [
        "name=[\"shivani\",\"preethi\",\"varshini\",\"maha lakshmi\"]\n",
        "name.index(\"varshini\")"
      ],
      "metadata": {
        "colab": {
          "base_uri": "https://localhost:8080/"
        },
        "id": "53D1A7rLcWI-",
        "outputId": "0b166329-531e-4281-8af0-3ee39fe5f9f9"
      },
      "execution_count": null,
      "outputs": [
        {
          "output_type": "execute_result",
          "data": {
            "text/plain": [
              "2"
            ]
          },
          "metadata": {},
          "execution_count": 65
        }
      ]
    },
    {
      "cell_type": "code",
      "source": [
        "name=[\"shivani\",\"preethi\",\"varshini\",\"maha lakshmi\"]\n",
        "a=name.extend(\"preethi\")\n",
        "print(a)"
      ],
      "metadata": {
        "colab": {
          "base_uri": "https://localhost:8080/"
        },
        "id": "J8OHvr9-cbic",
        "outputId": "62ec37da-f623-4dea-a63f-5d5c4aa8b797"
      },
      "execution_count": null,
      "outputs": [
        {
          "output_type": "stream",
          "name": "stdout",
          "text": [
            "None\n"
          ]
        }
      ]
    },
    {
      "cell_type": "code",
      "source": [
        "name=[\"shivani\",\"preethi\",\"varshini\",\"maha lakshmi\"]\n",
        "name.extend([1])"
      ],
      "metadata": {
        "id": "rDyvzXnccrqL"
      },
      "execution_count": null,
      "outputs": []
    },
    {
      "cell_type": "code",
      "source": [
        "name=\"shivani preethi varshini  maha lakshmi\"\n",
        "print(\"name\")\n",
        "print(name.strip(\"\"))"
      ],
      "metadata": {
        "colab": {
          "base_uri": "https://localhost:8080/"
        },
        "id": "_tKa1RXGhG1g",
        "outputId": "87717439-cdf8-4f9c-8646-34311cfe417e"
      },
      "execution_count": null,
      "outputs": [
        {
          "output_type": "stream",
          "name": "stdout",
          "text": [
            "name\n",
            "shivani preethi varshini  maha lakshmi\n"
          ]
        }
      ]
    },
    {
      "cell_type": "code",
      "source": [
        "#string and its methods\n",
        "goal=\"AI Engineer\"\n",
        "print(goal.upper())"
      ],
      "metadata": {
        "colab": {
          "base_uri": "https://localhost:8080/"
        },
        "id": "cJHhmqthdGXc",
        "outputId": "9fbf2e47-361b-4f83-a39d-8b2b98f2e66a"
      },
      "execution_count": null,
      "outputs": [
        {
          "output_type": "stream",
          "name": "stdout",
          "text": [
            "AI ENGINEER\n"
          ]
        }
      ]
    },
    {
      "cell_type": "code",
      "source": [
        "goal=\"AI Engineer\"\n",
        "print(goal.lower())"
      ],
      "metadata": {
        "colab": {
          "base_uri": "https://localhost:8080/"
        },
        "id": "b0RFF4xcd3To",
        "outputId": "4144a7cc-d5e3-4fe0-8ebe-ce1f47b4e7a1"
      },
      "execution_count": null,
      "outputs": [
        {
          "output_type": "stream",
          "name": "stdout",
          "text": [
            "ai engineer\n"
          ]
        }
      ]
    },
    {
      "cell_type": "code",
      "source": [
        "goal=\"ai engineer\"\n",
        "print(goal.capitalize())"
      ],
      "metadata": {
        "colab": {
          "base_uri": "https://localhost:8080/"
        },
        "id": "Z-fwdIYkeA4p",
        "outputId": "d7e7f81b-6516-49a2-bc5f-c5616fb6bba3"
      },
      "execution_count": null,
      "outputs": [
        {
          "output_type": "stream",
          "name": "stdout",
          "text": [
            "Ai engineer\n"
          ]
        }
      ]
    },
    {
      "cell_type": "code",
      "source": [
        "goal=\"AI Engineer\"\n",
        "print(goal.title())"
      ],
      "metadata": {
        "colab": {
          "base_uri": "https://localhost:8080/"
        },
        "id": "jmv3pIDOeJHD",
        "outputId": "51ba60e9-0385-4ed6-d317-20f5ffb66477"
      },
      "execution_count": null,
      "outputs": [
        {
          "output_type": "stream",
          "name": "stdout",
          "text": [
            "Ai Engineer\n"
          ]
        }
      ]
    },
    {
      "cell_type": "code",
      "source": [
        "a=\"welcome to artificial intelligence\"\n",
        "print(a.replace(\"artificial intelligence\",\"data science\"))"
      ],
      "metadata": {
        "colab": {
          "base_uri": "https://localhost:8080/"
        },
        "id": "EUX3oweNePRF",
        "outputId": "27edae5d-f22b-42c8-8ff0-de589f9f3e5a"
      },
      "execution_count": null,
      "outputs": [
        {
          "output_type": "stream",
          "name": "stdout",
          "text": [
            "welcome to data science\n"
          ]
        }
      ]
    },
    {
      "cell_type": "code",
      "source": [
        "a=\"welcome to artificial intelligence\"\n",
        "print(a.split(\"i\"))"
      ],
      "metadata": {
        "colab": {
          "base_uri": "https://localhost:8080/"
        },
        "id": "lpzyBq33evgz",
        "outputId": "5f447f92-30b0-49a1-ac4b-ae4ace94b854"
      },
      "execution_count": null,
      "outputs": [
        {
          "output_type": "stream",
          "name": "stdout",
          "text": [
            "['welcome to art', 'f', 'c', 'al ', 'ntell', 'gence']\n"
          ]
        }
      ]
    },
    {
      "cell_type": "code",
      "source": [
        "a=\"welcome to artificial intelligence\"\n",
        "print(a.find(\"to\"))"
      ],
      "metadata": {
        "colab": {
          "base_uri": "https://localhost:8080/"
        },
        "id": "JeqU6ezee4-j",
        "outputId": "9e6b815e-6f3b-4f55-b6e7-de118b044e52"
      },
      "execution_count": null,
      "outputs": [
        {
          "output_type": "stream",
          "name": "stdout",
          "text": [
            "8\n"
          ]
        }
      ]
    },
    {
      "cell_type": "code",
      "source": [
        "a=\"welcome to artificial intelligence\"\n",
        "print(a.swapcase())"
      ],
      "metadata": {
        "colab": {
          "base_uri": "https://localhost:8080/"
        },
        "id": "rwua6IQsfBAf",
        "outputId": "524bf3fc-62ee-4229-a24d-575468b0735a"
      },
      "execution_count": null,
      "outputs": [
        {
          "output_type": "stream",
          "name": "stdout",
          "text": [
            "WELCOME TO ARTIFICIAL INTELLIGENCE\n"
          ]
        }
      ]
    },
    {
      "cell_type": "code",
      "source": [
        "a=\"welcome to artificial intelligence\"\n",
        "print(a.count(\"i\"))"
      ],
      "metadata": {
        "colab": {
          "base_uri": "https://localhost:8080/"
        },
        "id": "1Rg68Zz2fJjB",
        "outputId": "37534bb0-c03a-4b86-adaf-06f90f3d0e6e"
      },
      "execution_count": null,
      "outputs": [
        {
          "output_type": "stream",
          "name": "stdout",
          "text": [
            "5\n"
          ]
        }
      ]
    },
    {
      "cell_type": "code",
      "source": [
        "a=\"welcome to artificial intelligence\"\n",
        "print(a.index(\"artificial\"))"
      ],
      "metadata": {
        "colab": {
          "base_uri": "https://localhost:8080/"
        },
        "id": "oITxX5vIfdUJ",
        "outputId": "f0fd67af-77c4-47a9-b771-66db4e80a496"
      },
      "execution_count": null,
      "outputs": [
        {
          "output_type": "stream",
          "name": "stdout",
          "text": [
            "11\n"
          ]
        }
      ]
    },
    {
      "cell_type": "code",
      "source": [
        "a=\"welcome to artificial intelligence\"\n",
        "print(a.startswith(\"welcome\"))"
      ],
      "metadata": {
        "colab": {
          "base_uri": "https://localhost:8080/"
        },
        "id": "5bKZTfDKfmYI",
        "outputId": "572ba26c-8201-4032-bd98-4bf02ba79b29"
      },
      "execution_count": null,
      "outputs": [
        {
          "output_type": "stream",
          "name": "stdout",
          "text": [
            "True\n"
          ]
        }
      ]
    },
    {
      "cell_type": "code",
      "source": [
        "a=\"welcome to artificial intelligence\"\n",
        "print(a.endswith(\"intlligence\"))"
      ],
      "metadata": {
        "colab": {
          "base_uri": "https://localhost:8080/"
        },
        "id": "VIooE8Egfv4a",
        "outputId": "a44a86d7-2fde-4ea7-951e-e6e92a041360"
      },
      "execution_count": null,
      "outputs": [
        {
          "output_type": "stream",
          "name": "stdout",
          "text": [
            "False\n"
          ]
        }
      ]
    },
    {
      "cell_type": "code",
      "source": [
        "a=\"welcome to artificial intelligence\"\n",
        "print(a.isalpha())"
      ],
      "metadata": {
        "colab": {
          "base_uri": "https://localhost:8080/"
        },
        "id": "PGglhUVxf1BS",
        "outputId": "40e6d735-5086-4756-c943-ea73e30200b1"
      },
      "execution_count": null,
      "outputs": [
        {
          "output_type": "stream",
          "name": "stdout",
          "text": [
            "False\n"
          ]
        }
      ]
    },
    {
      "cell_type": "code",
      "source": [
        "a=\"welcome to artificial intelligence\"\n",
        "print(a.isnumeric())"
      ],
      "metadata": {
        "colab": {
          "base_uri": "https://localhost:8080/"
        },
        "id": "AEEHAvh1f-oy",
        "outputId": "2f15e56d-4e8c-43df-e25e-8683d5f6a8a1"
      },
      "execution_count": null,
      "outputs": [
        {
          "output_type": "stream",
          "name": "stdout",
          "text": [
            "False\n"
          ]
        }
      ]
    },
    {
      "cell_type": "code",
      "source": [
        "a=\"2345\"\n",
        "print(a.isdigit())"
      ],
      "metadata": {
        "colab": {
          "base_uri": "https://localhost:8080/"
        },
        "id": "9Ixh9c9vgRsN",
        "outputId": "f661839a-7e2f-44de-d53f-6c1cc3769ea3"
      },
      "execution_count": null,
      "outputs": [
        {
          "output_type": "stream",
          "name": "stdout",
          "text": [
            "True\n"
          ]
        }
      ]
    },
    {
      "cell_type": "code",
      "source": [
        "a=\"intelligence115\"\n",
        "print(a.isalnum())"
      ],
      "metadata": {
        "colab": {
          "base_uri": "https://localhost:8080/"
        },
        "id": "z2-tlwEHgC9E",
        "outputId": "34472bc2-4534-4ffe-f321-7a19ab0ec839"
      },
      "execution_count": null,
      "outputs": [
        {
          "output_type": "stream",
          "name": "stdout",
          "text": [
            "True\n"
          ]
        }
      ]
    },
    {
      "cell_type": "code",
      "source": [
        "data=\"wonderla\"\n",
        "print(data.isupper())"
      ],
      "metadata": {
        "colab": {
          "base_uri": "https://localhost:8080/"
        },
        "id": "oeVpRZpvgiIM",
        "outputId": "5e167539-f949-4b6e-c1f8-6fd749e28882"
      },
      "execution_count": null,
      "outputs": [
        {
          "output_type": "stream",
          "name": "stdout",
          "text": [
            "False\n"
          ]
        }
      ]
    },
    {
      "cell_type": "code",
      "source": [
        "data=\"wonderla\"\n",
        "print(data.islower())"
      ],
      "metadata": {
        "colab": {
          "base_uri": "https://localhost:8080/"
        },
        "id": "-xHQs3Syg-6y",
        "outputId": "2ce332dc-099e-4101-f003-7088bc4749e0"
      },
      "execution_count": null,
      "outputs": [
        {
          "output_type": "stream",
          "name": "stdout",
          "text": [
            "True\n"
          ]
        }
      ]
    },
    {
      "cell_type": "code",
      "source": [
        "#conditional statements\n",
        "x=5\n",
        "y=5\n",
        "if x==y:\n",
        "  print(\"x and y are equal\")\n",
        "elif x>y:\n",
        "  print(\"x is greater than y\")\n",
        "else:\n",
        "  print(\"x is lesser than y\")"
      ],
      "metadata": {
        "colab": {
          "base_uri": "https://localhost:8080/"
        },
        "id": "DLVpnB29gIRy",
        "outputId": "3835a87a-ae2a-4204-ec10-e39cfc648804"
      },
      "execution_count": null,
      "outputs": [
        {
          "output_type": "stream",
          "name": "stdout",
          "text": [
            "x and y are equal\n"
          ]
        }
      ]
    },
    {
      "cell_type": "code",
      "source": [
        "#function defining\n",
        "def my_name():\n",
        "  print(\"preethi\")\n",
        "my_name()"
      ],
      "metadata": {
        "colab": {
          "base_uri": "https://localhost:8080/"
        },
        "id": "h63T_ZDvkWua",
        "outputId": "a61b231b-316d-4a09-edc6-db7edcfee8b6"
      },
      "execution_count": null,
      "outputs": [
        {
          "output_type": "stream",
          "name": "stdout",
          "text": [
            "preethi\n"
          ]
        }
      ]
    },
    {
      "cell_type": "code",
      "source": [
        "def my_age(age):\n",
        "  print(\"PREETHI_\"+age)\n",
        "my_age(\"19\")"
      ],
      "metadata": {
        "colab": {
          "base_uri": "https://localhost:8080/"
        },
        "id": "jxr7J3fqlB6V",
        "outputId": "f7aa0c73-e8ef-4966-c2e1-91e5e46a02f1"
      },
      "execution_count": null,
      "outputs": [
        {
          "output_type": "stream",
          "name": "stdout",
          "text": [
            "PREETHI_19\n"
          ]
        }
      ]
    },
    {
      "cell_type": "code",
      "source": [
        "def add(x,y,z):\n",
        "   print(\"x+y+z\")\n",
        "add(3,4,3)"
      ],
      "metadata": {
        "colab": {
          "base_uri": "https://localhost:8080/"
        },
        "id": "9BVV0tfJlj7t",
        "outputId": "041ebd42-98ae-4c4c-9f98-874660beb6d8"
      },
      "execution_count": null,
      "outputs": [
        {
          "output_type": "stream",
          "name": "stdout",
          "text": [
            "x+y+z\n"
          ]
        }
      ]
    },
    {
      "cell_type": "code",
      "source": [
        "#using lambda function\n",
        "sum= lambda x,y,z:x+y+z\n",
        "sum(3,7,8)"
      ],
      "metadata": {
        "colab": {
          "base_uri": "https://localhost:8080/"
        },
        "id": "UpUpHoBHmDT6",
        "outputId": "08d29017-d8db-4c31-f0ad-aad5a3578ba6"
      },
      "execution_count": null,
      "outputs": [
        {
          "output_type": "execute_result",
          "data": {
            "text/plain": [
              "18"
            ]
          },
          "metadata": {},
          "execution_count": 130
        }
      ]
    },
    {
      "cell_type": "code",
      "source": [
        "#map function eg:1\n",
        "nums=[1,2,3,4,5]\n",
        "def square(x):\n",
        "   return x*x\n",
        "square=map(square,nums)\n",
        "print(list(square))"
      ],
      "metadata": {
        "id": "rwKF0Iahme8S",
        "colab": {
          "base_uri": "https://localhost:8080/"
        },
        "outputId": "fe2ca620-eb07-49ed-8b4e-05416b66b346"
      },
      "execution_count": null,
      "outputs": [
        {
          "output_type": "stream",
          "name": "stdout",
          "text": [
            "[1, 4, 9, 16, 25]\n"
          ]
        }
      ]
    },
    {
      "cell_type": "code",
      "source": [
        "#eg:2\n",
        "nums=[1,2,3,4,5]\n",
        "def sum(x):\n",
        "  return x+5\n",
        "sum=map(sum,nums)\n",
        "print(list(sum))"
      ],
      "metadata": {
        "colab": {
          "base_uri": "https://localhost:8080/"
        },
        "id": "Z0dMOddgyOkJ",
        "outputId": "6bb32832-9a8e-4ef5-cddc-2a63d8bc4b42"
      },
      "execution_count": null,
      "outputs": [
        {
          "output_type": "stream",
          "name": "stdout",
          "text": [
            "[6, 7, 8, 9, 10]\n"
          ]
        }
      ]
    },
    {
      "cell_type": "code",
      "source": [
        "#for loop\n",
        "fruits=[\"apple\",\"orange\",\"banana\",\"mango\"]\n",
        "for x in fruits:\n",
        "  print(x)"
      ],
      "metadata": {
        "colab": {
          "base_uri": "https://localhost:8080/"
        },
        "id": "epbYXuKYzDl5",
        "outputId": "bcf79706-554b-440a-de74-462c369d0dc4"
      },
      "execution_count": null,
      "outputs": [
        {
          "output_type": "stream",
          "name": "stdout",
          "text": [
            "apple\n",
            "orange\n",
            "banana\n",
            "mango\n"
          ]
        }
      ]
    },
    {
      "cell_type": "code",
      "source": [
        "#eg:1\n",
        "for x in fruits:\n",
        "  print(x)\n",
        "  if x==\"banana\":\n",
        "    break"
      ],
      "metadata": {
        "colab": {
          "base_uri": "https://localhost:8080/"
        },
        "id": "xEWvefxA2RND",
        "outputId": "5d294d99-20bf-4a60-b372-b38b3431491d"
      },
      "execution_count": null,
      "outputs": [
        {
          "output_type": "stream",
          "name": "stdout",
          "text": [
            "apple\n",
            "orange\n",
            "banana\n"
          ]
        }
      ]
    },
    {
      "cell_type": "code",
      "source": [
        "#eg:2\n",
        "for x in fruits:\n",
        "  print(x)\n",
        "  if x==\"banana\":\n",
        "    continue"
      ],
      "metadata": {
        "colab": {
          "base_uri": "https://localhost:8080/"
        },
        "id": "k_vldNb42H_p",
        "outputId": "a16048cd-c91c-4aae-e6f0-05d1be4a0381"
      },
      "execution_count": null,
      "outputs": [
        {
          "output_type": "stream",
          "name": "stdout",
          "text": [
            "apple\n",
            "orange\n",
            "banana\n",
            "mango\n"
          ]
        }
      ]
    },
    {
      "cell_type": "code",
      "source": [
        "#while loop eg:1\n",
        "num=2\n",
        "while num<=12:\n",
        "  print(num)\n",
        "  num+=2"
      ],
      "metadata": {
        "colab": {
          "base_uri": "https://localhost:8080/"
        },
        "id": "6LGC94fo2scF",
        "outputId": "3c77d18c-4dd8-4c77-b87c-b865c1ea22cc"
      },
      "execution_count": null,
      "outputs": [
        {
          "output_type": "stream",
          "name": "stdout",
          "text": [
            "2\n",
            "4\n",
            "6\n",
            "8\n",
            "10\n",
            "12\n"
          ]
        }
      ]
    },
    {
      "cell_type": "code",
      "source": [
        "#eg:2\n",
        "num=5\n",
        "while num<=10:\n",
        "  print(num)\n",
        "  if num==8:\n",
        "    break\n",
        "  num+=1"
      ],
      "metadata": {
        "colab": {
          "base_uri": "https://localhost:8080/"
        },
        "id": "7QogISTB3Xis",
        "outputId": "16e18e0d-4911-45f4-8f06-b8faae053a1d"
      },
      "execution_count": null,
      "outputs": [
        {
          "output_type": "stream",
          "name": "stdout",
          "text": [
            "5\n",
            "6\n",
            "7\n",
            "8\n"
          ]
        }
      ]
    },
    {
      "cell_type": "code",
      "source": [
        "#eg:3\n",
        "num=10\n",
        "while num<=15:\n",
        "  num+=1\n",
        "  if num==13:\n",
        "    continue\n",
        "  print(num)"
      ],
      "metadata": {
        "colab": {
          "base_uri": "https://localhost:8080/"
        },
        "id": "OHud7vUI7bH0",
        "outputId": "87f3cce1-dc19-4ce5-f622-010df3fc9d56"
      },
      "execution_count": null,
      "outputs": [
        {
          "output_type": "stream",
          "name": "stdout",
          "text": [
            "11\n",
            "12\n",
            "14\n",
            "15\n",
            "16\n"
          ]
        }
      ]
    },
    {
      "cell_type": "code",
      "source": [
        "#index method\n",
        "num=(1,2,3,4,5,6,7,8,9)\n",
        "num.index(6)"
      ],
      "metadata": {
        "colab": {
          "base_uri": "https://localhost:8080/"
        },
        "id": "1IL4nYyu6LZy",
        "outputId": "2910751b-4b75-481f-b540-e2f7e998641b"
      },
      "execution_count": null,
      "outputs": [
        {
          "output_type": "execute_result",
          "data": {
            "text/plain": [
              "5"
            ]
          },
          "metadata": {},
          "execution_count": 190
        }
      ]
    },
    {
      "cell_type": "code",
      "source": [
        "#count method\n",
        "num=(1,2,3,4,5,6,7,8,9)\n",
        "num.count(6)"
      ],
      "metadata": {
        "colab": {
          "base_uri": "https://localhost:8080/"
        },
        "id": "GOzWrI8N3Lqi",
        "outputId": "6d459918-8a3f-467b-a0f1-5e5e7890903b"
      },
      "execution_count": null,
      "outputs": [
        {
          "output_type": "execute_result",
          "data": {
            "text/plain": [
              "1"
            ]
          },
          "metadata": {},
          "execution_count": 191
        }
      ]
    },
    {
      "cell_type": "code",
      "source": [
        "num=(1,2,3,4,5,6,7,8,9)\n",
        "min(num)"
      ],
      "metadata": {
        "colab": {
          "base_uri": "https://localhost:8080/"
        },
        "id": "69xdXzR-7JHL",
        "outputId": "746a7e84-365b-4694-e1e2-280dff876f51"
      },
      "execution_count": null,
      "outputs": [
        {
          "output_type": "execute_result",
          "data": {
            "text/plain": [
              "1"
            ]
          },
          "metadata": {},
          "execution_count": 196
        }
      ]
    },
    {
      "cell_type": "code",
      "source": [
        "num=(1,2,3,4,5,6,7,8,9)\n",
        "max(num)"
      ],
      "metadata": {
        "colab": {
          "base_uri": "https://localhost:8080/"
        },
        "id": "eFVKiZ_k8XJH",
        "outputId": "ec8103b8-b2c7-41d6-899a-1fa36ee7da16"
      },
      "execution_count": null,
      "outputs": [
        {
          "output_type": "execute_result",
          "data": {
            "text/plain": [
              "9"
            ]
          },
          "metadata": {},
          "execution_count": 197
        }
      ]
    },
    {
      "cell_type": "code",
      "source": [
        "#dictionary\n",
        "car={\"name\":\"Kia\",\n",
        "    \"color\":\"black\",\n",
        "    \"seats\":\"8\"}\n",
        "print(car)"
      ],
      "metadata": {
        "colab": {
          "base_uri": "https://localhost:8080/"
        },
        "id": "p65lV3wQ8oMQ",
        "outputId": "65468b10-9a8b-4405-e761-1de93a213223"
      },
      "execution_count": null,
      "outputs": [
        {
          "output_type": "stream",
          "name": "stdout",
          "text": [
            "{'name': 'Kia', 'color': 'black', 'seats': '8'}\n"
          ]
        }
      ]
    },
    {
      "cell_type": "code",
      "source": [
        "car.get(\"color\")"
      ],
      "metadata": {
        "colab": {
          "base_uri": "https://localhost:8080/",
          "height": 36
        },
        "id": "r-FFkYOm9PJm",
        "outputId": "9d8dd20a-620b-40a2-eb86-d63393b88607"
      },
      "execution_count": null,
      "outputs": [
        {
          "output_type": "execute_result",
          "data": {
            "text/plain": [
              "'black'"
            ],
            "application/vnd.google.colaboratory.intrinsic+json": {
              "type": "string"
            }
          },
          "metadata": {},
          "execution_count": 220
        }
      ]
    },
    {
      "cell_type": "code",
      "source": [
        "car.keys()"
      ],
      "metadata": {
        "colab": {
          "base_uri": "https://localhost:8080/"
        },
        "id": "TYY5J7fK9XPX",
        "outputId": "4f7228df-1f39-4885-ad08-5536ce3e43fa"
      },
      "execution_count": null,
      "outputs": [
        {
          "output_type": "execute_result",
          "data": {
            "text/plain": [
              "dict_keys(['name', 'color', 'seats'])"
            ]
          },
          "metadata": {},
          "execution_count": 221
        }
      ]
    },
    {
      "cell_type": "code",
      "source": [
        "car.values()"
      ],
      "metadata": {
        "colab": {
          "base_uri": "https://localhost:8080/"
        },
        "id": "N3sSZSup9aMt",
        "outputId": "864b08b1-2690-40c0-d50d-69f95c8d2f04"
      },
      "execution_count": null,
      "outputs": [
        {
          "output_type": "execute_result",
          "data": {
            "text/plain": [
              "dict_values(['Kia', 'black', '8'])"
            ]
          },
          "metadata": {},
          "execution_count": 222
        }
      ]
    },
    {
      "cell_type": "code",
      "source": [
        "car.items()"
      ],
      "metadata": {
        "colab": {
          "base_uri": "https://localhost:8080/"
        },
        "id": "yAIP0lpX9ev1",
        "outputId": "9014b5e8-0cb0-4643-8175-7964016c08d1"
      },
      "execution_count": null,
      "outputs": [
        {
          "output_type": "execute_result",
          "data": {
            "text/plain": [
              "dict_items([('name', 'Kia'), ('color', 'black'), ('seats', '8')])"
            ]
          },
          "metadata": {},
          "execution_count": 223
        }
      ]
    },
    {
      "cell_type": "code",
      "source": [
        "car.pop(\"color\")"
      ],
      "metadata": {
        "colab": {
          "base_uri": "https://localhost:8080/",
          "height": 36
        },
        "id": "9wsS7dba9nyV",
        "outputId": "0b66ef08-91f7-474c-c037-35cdd6df1b56"
      },
      "execution_count": null,
      "outputs": [
        {
          "output_type": "execute_result",
          "data": {
            "text/plain": [
              "'black'"
            ],
            "application/vnd.google.colaboratory.intrinsic+json": {
              "type": "string"
            }
          },
          "metadata": {},
          "execution_count": 224
        }
      ]
    },
    {
      "cell_type": "code",
      "source": [
        "car.popitem()"
      ],
      "metadata": {
        "colab": {
          "base_uri": "https://localhost:8080/"
        },
        "id": "nuDNNY8H9vnA",
        "outputId": "11fdeafd-24f8-46b8-9367-74aa3b582291"
      },
      "execution_count": null,
      "outputs": [
        {
          "output_type": "execute_result",
          "data": {
            "text/plain": [
              "('seats', '8')"
            ]
          },
          "metadata": {},
          "execution_count": 225
        }
      ]
    },
    {
      "cell_type": "code",
      "source": [
        "print(car)"
      ],
      "metadata": {
        "colab": {
          "base_uri": "https://localhost:8080/"
        },
        "id": "m5Fsu6Gd-i2k",
        "outputId": "4d4513f0-dcdc-45e7-b1ea-cb61fd37b387"
      },
      "execution_count": null,
      "outputs": [
        {
          "output_type": "stream",
          "name": "stdout",
          "text": [
            "{'name': 'Kia'}\n"
          ]
        }
      ]
    },
    {
      "cell_type": "code",
      "source": [
        "car.update({\"brand\":\"ford\"})\n",
        "print(car)"
      ],
      "metadata": {
        "colab": {
          "base_uri": "https://localhost:8080/"
        },
        "id": "uqHxDVlj93Fp",
        "outputId": "c221e7fc-ecd7-426b-8f18-cdebf037240b"
      },
      "execution_count": null,
      "outputs": [
        {
          "output_type": "stream",
          "name": "stdout",
          "text": [
            "{'name': 'Kia', 'brand': 'ford'}\n"
          ]
        }
      ]
    },
    {
      "cell_type": "code",
      "source": [
        "car.copy()"
      ],
      "metadata": {
        "colab": {
          "base_uri": "https://localhost:8080/"
        },
        "id": "Y2L6kSPT-diP",
        "outputId": "edf80c5a-cba6-4a1c-e4e4-7a864c4dbe28"
      },
      "execution_count": null,
      "outputs": [
        {
          "output_type": "execute_result",
          "data": {
            "text/plain": [
              "{'name': 'Kia', 'brand': 'ford'}"
            ]
          },
          "metadata": {},
          "execution_count": 228
        }
      ]
    },
    {
      "cell_type": "code",
      "source": [
        "#default\n",
        "car2=car.setdefault(\"color\",\"red\")\n",
        "print(car2)"
      ],
      "metadata": {
        "colab": {
          "base_uri": "https://localhost:8080/"
        },
        "id": "N4Q0EcpbAMJL",
        "outputId": "ee935064-b3cb-4da5-f711-d8f0f4cbdcf8"
      },
      "execution_count": null,
      "outputs": [
        {
          "output_type": "stream",
          "name": "stdout",
          "text": [
            "red\n"
          ]
        }
      ]
    },
    {
      "cell_type": "code",
      "source": [
        "#from keys\n",
        "colors=dict.fromkeys([\"blue\",\"pink\",\"green\"])\n",
        "print(colors)"
      ],
      "metadata": {
        "colab": {
          "base_uri": "https://localhost:8080/"
        },
        "id": "Iki5Cz2z-76W",
        "outputId": "c405e2f8-c40c-4b32-b215-6544eb7bfb57"
      },
      "execution_count": null,
      "outputs": [
        {
          "output_type": "stream",
          "name": "stdout",
          "text": [
            "{'blue': None, 'pink': None, 'green': None}\n"
          ]
        }
      ]
    },
    {
      "cell_type": "code",
      "source": [
        "#et\n",
        "#intersection method\n",
        "x={\"apple\",\"orange\",\"grapes\"}\n",
        "y={\"banan\",\"apple\",\"mango\"}\n",
        "z=x.intersection(y)\n",
        "print(z)"
      ],
      "metadata": {
        "colab": {
          "base_uri": "https://localhost:8080/"
        },
        "id": "yRAmh8vv_ebb",
        "outputId": "0f519a31-9c36-4a08-8a9e-c518d62c9704"
      },
      "execution_count": null,
      "outputs": [
        {
          "output_type": "stream",
          "name": "stdout",
          "text": [
            "{'apple'}\n"
          ]
        }
      ]
    },
    {
      "cell_type": "code",
      "source": [
        "x={\"apple\",\"orange\",\"grapes\"}\n",
        "y={\"banan\",\"apple\",\"mango\"}\n",
        "z=x.union(y)\n",
        "print(z)"
      ],
      "metadata": {
        "colab": {
          "base_uri": "https://localhost:8080/"
        },
        "id": "GXgE_RZYBJ0d",
        "outputId": "d220f7a1-306d-42b4-8522-c999de80be93"
      },
      "execution_count": null,
      "outputs": [
        {
          "output_type": "stream",
          "name": "stdout",
          "text": [
            "{'mango', 'orange', 'apple', 'banan', 'grapes'}\n"
          ]
        }
      ]
    },
    {
      "cell_type": "code",
      "source": [
        "x={\"apple\",\"orange\",\"grapes\"}\n",
        "y={\"banana\",\"apple\",\"mango\"}\n",
        "z=x.difference(y)\n",
        "print(z)"
      ],
      "metadata": {
        "colab": {
          "base_uri": "https://localhost:8080/"
        },
        "id": "1suIFRDvBTRo",
        "outputId": "d545bf5d-d653-4ecb-9ed4-d6149bb1c06f"
      },
      "execution_count": null,
      "outputs": [
        {
          "output_type": "stream",
          "name": "stdout",
          "text": [
            "{'grapes', 'orange'}\n"
          ]
        }
      ]
    },
    {
      "cell_type": "code",
      "source": [
        "x={\"apple\",\"orange\",\"grapes\"}\n",
        "y={\"banana\",\"apple\",\"mango\"}\n",
        "x.add(\"pineapple\")\n",
        "print(x)"
      ],
      "metadata": {
        "colab": {
          "base_uri": "https://localhost:8080/"
        },
        "id": "-X3vV3YoBYu6",
        "outputId": "28643d44-4a44-4261-80d7-a1313e36643a"
      },
      "execution_count": null,
      "outputs": [
        {
          "output_type": "stream",
          "name": "stdout",
          "text": [
            "{'orange', 'pineapple', 'grapes', 'apple'}\n"
          ]
        }
      ]
    },
    {
      "cell_type": "code",
      "source": [
        "x={\"apple\",\"orange\",\"grapes\"}\n",
        "y={\"banana\",\"apple\",\"mango\"}\n",
        "y.remove(\"apple\")\n",
        "print(y)"
      ],
      "metadata": {
        "colab": {
          "base_uri": "https://localhost:8080/"
        },
        "id": "sJPLurI5Bsb0",
        "outputId": "d40b6502-2aac-4520-ed4e-17f35e94452b"
      },
      "execution_count": null,
      "outputs": [
        {
          "output_type": "stream",
          "name": "stdout",
          "text": [
            "{'banana', 'mango'}\n"
          ]
        }
      ]
    },
    {
      "cell_type": "code",
      "source": [
        "x={\"apple\",\"orange\",\"grapes\"}\n",
        "x.discard(\"apple\")\n",
        "print(x)"
      ],
      "metadata": {
        "colab": {
          "base_uri": "https://localhost:8080/"
        },
        "id": "uSitFMFuEEHs",
        "outputId": "641833c0-6652-4bbc-807b-0e64ffaafab4"
      },
      "execution_count": null,
      "outputs": [
        {
          "output_type": "stream",
          "name": "stdout",
          "text": [
            "{'orange', 'grapes'}\n"
          ]
        }
      ]
    },
    {
      "cell_type": "code",
      "source": [
        "x=[\"apple\",\"orange\",\"grapes\"]\n",
        "x.pop(2)\n",
        "print(x)"
      ],
      "metadata": {
        "colab": {
          "base_uri": "https://localhost:8080/"
        },
        "id": "bbzbaHniB3i7",
        "outputId": "6f2b0ddb-3f39-4ac6-b23f-ae0ff5b69f58"
      },
      "execution_count": null,
      "outputs": [
        {
          "output_type": "stream",
          "name": "stdout",
          "text": [
            "['apple', 'orange']\n"
          ]
        }
      ]
    },
    {
      "cell_type": "code",
      "source": [
        "x={\"apple\",\"orange\",\"grapes\"}\n",
        "y={\"apple\",\"orange\",\"grapes\"}\n",
        "z=x.issuperset(y)\n",
        "print(z)"
      ],
      "metadata": {
        "colab": {
          "base_uri": "https://localhost:8080/"
        },
        "id": "wHpGXKb0Ebg1",
        "outputId": "7ae581de-bbe9-4753-f46e-b738b3c174f7"
      },
      "execution_count": null,
      "outputs": [
        {
          "output_type": "stream",
          "name": "stdout",
          "text": [
            "True\n"
          ]
        }
      ]
    },
    {
      "cell_type": "code",
      "source": [
        "x={\"apple\",\"orange\",\"grapes\"}\n",
        "y={\"mango\",\"apple\",\"orange\",\"grapes\",\"pine apple\"}\n",
        "z=x.issubset(y)\n",
        "print(z)"
      ],
      "metadata": {
        "colab": {
          "base_uri": "https://localhost:8080/"
        },
        "id": "Cf8r94UtE9Vs",
        "outputId": "a292c262-36d0-40a5-e76d-e15732c21f63"
      },
      "execution_count": null,
      "outputs": [
        {
          "output_type": "stream",
          "name": "stdout",
          "text": [
            "True\n"
          ]
        }
      ]
    },
    {
      "cell_type": "code",
      "source": [
        "x={\"apple\",\"orange\",\"grapes\"}\n",
        "y={\"mango\",\"pine apple\"}\n",
        "x.update(y)\n",
        "print(x)"
      ],
      "metadata": {
        "colab": {
          "base_uri": "https://localhost:8080/"
        },
        "id": "gt1jmMorFl2b",
        "outputId": "33aa5980-f729-44c1-9925-19506b217705"
      },
      "execution_count": null,
      "outputs": [
        {
          "output_type": "stream",
          "name": "stdout",
          "text": [
            "{'pine apple', 'mango', 'orange', 'apple', 'grapes'}\n"
          ]
        }
      ]
    }
  ]
}