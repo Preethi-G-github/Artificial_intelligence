{
  "nbformat": 4,
  "nbformat_minor": 0,
  "metadata": {
    "colab": {
      "provenance": []
    },
    "kernelspec": {
      "name": "python3",
      "display_name": "Python 3"
    },
    "language_info": {
      "name": "python"
    }
  },
  "cells": [
    {
      "cell_type": "code",
      "execution_count": null,
      "metadata": {
        "id": "LxtxUsahOdcJ"
      },
      "outputs": [],
      "source": [
        "pip install numpy"
      ]
    },
    {
      "cell_type": "code",
      "source": [
        "import numpy as np"
      ],
      "metadata": {
        "id": "dsyVAxFCO39x"
      },
      "execution_count": null,
      "outputs": []
    },
    {
      "cell_type": "code",
      "source": [
        "array=np.array(60)\n",
        "print(array)\n",
        "print(array.dtype)"
      ],
      "metadata": {
        "colab": {
          "base_uri": "https://localhost:8080/"
        },
        "id": "tSyLyd1AO6c8",
        "outputId": "fd54838f-7f16-4351-f957-6741f0f368d8"
      },
      "execution_count": null,
      "outputs": [
        {
          "output_type": "stream",
          "name": "stdout",
          "text": [
            "60\n",
            "int64\n"
          ]
        }
      ]
    },
    {
      "cell_type": "code",
      "source": [
        "one=np.array([1,2,3,4,5,6,7,8,9,10])\n",
        "print(one)\n",
        "print(one[6])\n",
        "print(one[2:5])\n",
        "print(one[:8])\n",
        "print(one[2:])"
      ],
      "metadata": {
        "colab": {
          "base_uri": "https://localhost:8080/"
        },
        "id": "UqIxTlZ4OhQh",
        "outputId": "1c6b5228-d68a-47f7-ac06-1d857fc2ff2f"
      },
      "execution_count": null,
      "outputs": [
        {
          "output_type": "stream",
          "name": "stdout",
          "text": [
            "[ 1  2  3  4  5  6  7  8  9 10]\n",
            "7\n",
            "[3 4 5]\n",
            "[1 2 3 4 5 6 7 8]\n",
            "[ 3  4  5  6  7  8  9 10]\n"
          ]
        }
      ]
    },
    {
      "cell_type": "code",
      "source": [
        "two=np.array([[2,3,4,5],[6,7,8,9]])\n",
        "print(two)\n",
        "print(two[1,1])\n",
        "print(two[0,1:])\n",
        "print(two[1,:3])"
      ],
      "metadata": {
        "colab": {
          "base_uri": "https://localhost:8080/"
        },
        "id": "wMPbMm4dQIzx",
        "outputId": "5cfa20c3-85f9-4669-883f-869594805514"
      },
      "execution_count": null,
      "outputs": [
        {
          "output_type": "stream",
          "name": "stdout",
          "text": [
            "[[2 3 4 5]\n",
            " [6 7 8 9]]\n",
            "7\n",
            "[3 4 5]\n",
            "[6 7 8]\n"
          ]
        }
      ]
    },
    {
      "cell_type": "code",
      "source": [
        "three=np.array([[[2,1,3,4,5],[3,5,7,9,1]],[[3,5,8,1,0],[2,6,7,8,0]]])\n",
        "print(three)\n",
        "print(three[1,0,2:])\n",
        "print(three[0,1,0:4])\n",
        "print(three[0,0,1:4])"
      ],
      "metadata": {
        "colab": {
          "base_uri": "https://localhost:8080/"
        },
        "id": "OioUOWEJRFpl",
        "outputId": "1ba2730e-ad3e-4936-daec-8c053ba78bc4"
      },
      "execution_count": null,
      "outputs": [
        {
          "output_type": "stream",
          "name": "stdout",
          "text": [
            "[[[2 1 3 4 5]\n",
            "  [3 5 7 9 1]]\n",
            "\n",
            " [[3 5 8 1 0]\n",
            "  [2 6 7 8 0]]]\n",
            "[8 1 0]\n",
            "[3 5 7 9]\n",
            "[1 3 4]\n"
          ]
        }
      ]
    },
    {
      "cell_type": "code",
      "source": [
        "arr=np.array(45.0,dtype='i')\n",
        "print(arr)\n",
        "print(arr.dtype)"
      ],
      "metadata": {
        "colab": {
          "base_uri": "https://localhost:8080/"
        },
        "id": "xm8q4nnVVDjj",
        "outputId": "52d9e9e9-8e63-4c2b-c8a1-5471aea117e4"
      },
      "execution_count": null,
      "outputs": [
        {
          "output_type": "stream",
          "name": "stdout",
          "text": [
            "45\n",
            "int32\n"
          ]
        }
      ]
    },
    {
      "cell_type": "code",
      "source": [
        "arr=np.array(56,dtype='float')\n",
        "print(arr)\n",
        "print(arr.dtype)"
      ],
      "metadata": {
        "colab": {
          "base_uri": "https://localhost:8080/"
        },
        "id": "f2OoYiZXWjyR",
        "outputId": "26d1785c-7134-4850-ebe6-8b475ef0bcef"
      },
      "execution_count": null,
      "outputs": [
        {
          "output_type": "stream",
          "name": "stdout",
          "text": [
            "56.0\n",
            "float64\n"
          ]
        }
      ]
    },
    {
      "cell_type": "code",
      "source": [
        "one=np.array([1,2,3,4,5,6,7,8,9,10,11,12,13,14,15,16])\n",
        "print(one)\n",
        "print(one.shape)\n",
        "two_D=one.reshape(4,4)\n",
        "print(two_D)\n",
        "print(two_D.shape)"
      ],
      "metadata": {
        "colab": {
          "base_uri": "https://localhost:8080/"
        },
        "id": "MqsKThUAXjVG",
        "outputId": "3630fb93-9bef-49ae-a26b-dae36b1d25a7"
      },
      "execution_count": null,
      "outputs": [
        {
          "output_type": "stream",
          "name": "stdout",
          "text": [
            "[ 1  2  3  4  5  6  7  8  9 10 11 12 13 14 15 16]\n",
            "(16,)\n",
            "[[ 1  2  3  4]\n",
            " [ 5  6  7  8]\n",
            " [ 9 10 11 12]\n",
            " [13 14 15 16]]\n",
            "(4, 4)\n"
          ]
        }
      ]
    },
    {
      "cell_type": "code",
      "source": [
        "one=np.array([1,2,3,4,5,6,7,8,9,10,11,12,13,14,15,16])\n",
        "print(one)\n",
        "print(one.shape)\n",
        "three_D=one.reshape(2,2,4)\n",
        "print(three_D)\n",
        "print(three_D.shape)"
      ],
      "metadata": {
        "colab": {
          "base_uri": "https://localhost:8080/"
        },
        "id": "xpmngQzIbEV0",
        "outputId": "7d29dc1a-4c69-41e5-a9a7-89b3c7da94b1"
      },
      "execution_count": null,
      "outputs": [
        {
          "output_type": "stream",
          "name": "stdout",
          "text": [
            "[ 1  2  3  4  5  6  7  8  9 10 11 12 13 14 15 16]\n",
            "(16,)\n",
            "[[[ 1  2  3  4]\n",
            "  [ 5  6  7  8]]\n",
            "\n",
            " [[ 9 10 11 12]\n",
            "  [13 14 15 16]]]\n",
            "(2, 2, 4)\n"
          ]
        }
      ]
    },
    {
      "cell_type": "code",
      "source": [
        "one=np.array([1,2,3,4,5,6,7,8,9,10,11,12,13,14,15,16])\n",
        "print(one)\n",
        "print(one.shape)\n",
        "multi_D=one.reshape(2,2,2,2)\n",
        "print(multi_D)\n",
        "print(multi_D.shape)"
      ],
      "metadata": {
        "colab": {
          "base_uri": "https://localhost:8080/"
        },
        "id": "0xCQFqxLcVd4",
        "outputId": "4171e3f3-a43d-4918-d7c9-cfddc042e023"
      },
      "execution_count": null,
      "outputs": [
        {
          "output_type": "stream",
          "name": "stdout",
          "text": [
            "[ 1  2  3  4  5  6  7  8  9 10 11 12 13 14 15 16]\n",
            "(16,)\n",
            "[[[[ 1  2]\n",
            "   [ 3  4]]\n",
            "\n",
            "  [[ 5  6]\n",
            "   [ 7  8]]]\n",
            "\n",
            "\n",
            " [[[ 9 10]\n",
            "   [11 12]]\n",
            "\n",
            "  [[13 14]\n",
            "   [15 16]]]]\n",
            "(2, 2, 2, 2)\n"
          ]
        }
      ]
    }
  ]
}